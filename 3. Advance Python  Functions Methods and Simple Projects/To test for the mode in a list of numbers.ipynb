{
 "cells": [
  {
   "cell_type": "markdown",
   "id": "bdaf8950",
   "metadata": {},
   "source": [
    "# Method 1 to test for the mode in a list of numbers \n",
    "To find the mode (the number that appears most frequently) in a list of numbers, you can use the statistics module in Python. Here's an example:"
   ]
  },
  {
   "cell_type": "code",
   "execution_count": 2,
   "id": "ef88fe86",
   "metadata": {},
   "outputs": [
    {
     "name": "stdout",
     "output_type": "stream",
     "text": [
      "The mode is: 2\n"
     ]
    }
   ],
   "source": [
    "import statistics\n",
    "\n",
    "def find_mode(numbers):\n",
    "    try:\n",
    "        # Calculate the mode using the statistics module\n",
    "        mode_result = statistics.mode(numbers)\n",
    "        print(f\"The mode is: {mode_result}\")\n",
    "\n",
    "    except statistics.StatisticsError:\n",
    "        print(\"No unique mode found. The list may have multiple modes or be empty.\")\n",
    "\n",
    "# Example usage\n",
    "numbers_list = [1, 2, 3, 4, 2, 5, 2, 6, 7, 2, 8, 9, 2]\n",
    "find_mode(numbers_list)\n"
   ]
  },
  {
   "cell_type": "markdown",
   "id": "98735dee",
   "metadata": {},
   "source": [
    "# Method 2 to test for the mode in a list of numbers \n",
    "the max function with the key parameter to find the mode (the most frequent element) in the list. However, note that this approach may not handle cases where there are multiple elements with the same maximum frequency (multi-modal data)."
   ]
  },
  {
   "cell_type": "code",
   "execution_count": 3,
   "id": "68ec5a1c",
   "metadata": {},
   "outputs": [
    {
     "name": "stdout",
     "output_type": "stream",
     "text": [
      "The mode is: 10\n"
     ]
    }
   ],
   "source": [
    "test = [10, 20, 10, 30, 60, 50, 40, 60, 21, 45, 6, 3, 57, 20, 10, 10]\n",
    "\n",
    "# Using max with key parameter to find the mode\n",
    "mode_result = max(set(test), key=test.count)\n",
    "\n",
    "print(f\"The mode is: {mode_result}\")\n"
   ]
  },
  {
   "cell_type": "code",
   "execution_count": null,
   "id": "5172cf2b",
   "metadata": {},
   "outputs": [],
   "source": []
  }
 ],
 "metadata": {
  "kernelspec": {
   "display_name": "Python 3 (ipykernel)",
   "language": "python",
   "name": "python3"
  },
  "language_info": {
   "codemirror_mode": {
    "name": "ipython",
    "version": 3
   },
   "file_extension": ".py",
   "mimetype": "text/x-python",
   "name": "python",
   "nbconvert_exporter": "python",
   "pygments_lexer": "ipython3",
   "version": "3.9.12"
  }
 },
 "nbformat": 4,
 "nbformat_minor": 5
}
