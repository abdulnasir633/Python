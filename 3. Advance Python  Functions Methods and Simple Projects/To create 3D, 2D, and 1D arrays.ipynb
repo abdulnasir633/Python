{
 "cells": [
  {
   "cell_type": "markdown",
   "id": "efa0c112",
   "metadata": {},
   "source": [
    "# To create 3D, 2D, and 1D arrays \n",
    "Creating 3D, 2D, and 1D arrays in Python typically involves using libraries like NumPy, which provides convenient and efficient array operations. Here are the steps for creating arrays of different dimensions using NumPy:"
   ]
  },
  {
   "cell_type": "markdown",
   "id": "5cf9e25e",
   "metadata": {},
   "source": [
    "# Make sure to install NumPy if you haven't already:\n",
    "\n",
    "NumPy is a powerful library for numerical operations in Python, and it provides a versatile and efficient array object for working with multi-dimensional data."
   ]
  },
  {
   "cell_type": "code",
   "execution_count": null,
   "id": "4110a8aa",
   "metadata": {},
   "outputs": [],
   "source": [
    "pip install numpy"
   ]
  },
  {
   "cell_type": "markdown",
   "id": "fd1df6e9",
   "metadata": {},
   "source": [
    "# 1. Creating a 1D Array:"
   ]
  },
  {
   "cell_type": "code",
   "execution_count": 1,
   "id": "fbb7faea",
   "metadata": {},
   "outputs": [
    {
     "name": "stdout",
     "output_type": "stream",
     "text": [
      "1D Array:\n",
      "[1 2 3 4 5]\n"
     ]
    }
   ],
   "source": [
    "import numpy as np\n",
    "\n",
    "# Using a list to create a 1D NumPy array\n",
    "arr_1d = np.array([1, 2, 3, 4, 5])\n",
    "\n",
    "print(\"1D Array:\")\n",
    "print(arr_1d)\n"
   ]
  },
  {
   "cell_type": "markdown",
   "id": "87b522e7",
   "metadata": {},
   "source": [
    "# 2. Creating a 2D Array:"
   ]
  },
  {
   "cell_type": "code",
   "execution_count": 2,
   "id": "c1caa1c6",
   "metadata": {},
   "outputs": [
    {
     "name": "stdout",
     "output_type": "stream",
     "text": [
      "2D Array:\n",
      "[[1 2 3]\n",
      " [4 5 6]\n",
      " [7 8 9]]\n"
     ]
    }
   ],
   "source": [
    "import numpy as np\n",
    "\n",
    "# Using a list of lists to create a 2D NumPy array\n",
    "arr_2d = np.array([[1, 2, 3], [4, 5, 6], [7, 8, 9]])\n",
    "\n",
    "print(\"2D Array:\")\n",
    "print(arr_2d)\n"
   ]
  },
  {
   "cell_type": "markdown",
   "id": "7c324715",
   "metadata": {},
   "source": [
    "# 3. Creating a 3D Array:"
   ]
  },
  {
   "cell_type": "code",
   "execution_count": 3,
   "id": "716c2ffd",
   "metadata": {},
   "outputs": [
    {
     "name": "stdout",
     "output_type": "stream",
     "text": [
      "3D Array:\n",
      "[[[ 1  2  3]\n",
      "  [ 4  5  6]]\n",
      "\n",
      " [[ 7  8  9]\n",
      "  [10 11 12]]]\n"
     ]
    }
   ],
   "source": [
    "import numpy as np\n",
    "\n",
    "# Using nested lists to create a 3D NumPy array\n",
    "arr_3d = np.array([[[1, 2, 3], [4, 5, 6]], [[7, 8, 9], [10, 11, 12]]])\n",
    "\n",
    "print(\"3D Array:\")\n",
    "print(arr_3d)"
   ]
  },
  {
   "cell_type": "code",
   "execution_count": null,
   "id": "70a73ff0",
   "metadata": {},
   "outputs": [],
   "source": []
  }
 ],
 "metadata": {
  "kernelspec": {
   "display_name": "Python 3 (ipykernel)",
   "language": "python",
   "name": "python3"
  },
  "language_info": {
   "codemirror_mode": {
    "name": "ipython",
    "version": 3
   },
   "file_extension": ".py",
   "mimetype": "text/x-python",
   "name": "python",
   "nbconvert_exporter": "python",
   "pygments_lexer": "ipython3",
   "version": "3.9.12"
  }
 },
 "nbformat": 4,
 "nbformat_minor": 5
}
