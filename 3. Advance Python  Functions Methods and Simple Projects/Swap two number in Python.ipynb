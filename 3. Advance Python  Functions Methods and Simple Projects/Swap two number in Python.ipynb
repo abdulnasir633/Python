{
 "cells": [
  {
   "cell_type": "markdown",
   "id": "f9aef1ab",
   "metadata": {},
   "source": [
    "# Swapping two numbers in Python\n",
    "Swapping two numbers in Python can be done using a temporary variable or without using a temporary variable. Here are examples of both methods:"
   ]
  },
  {
   "cell_type": "markdown",
   "id": "dd878515",
   "metadata": {},
   "source": [
    "# Using a Temporary Variable:"
   ]
  },
  {
   "cell_type": "code",
   "execution_count": 2,
   "id": "813e55ec",
   "metadata": {},
   "outputs": [
    {
     "name": "stdout",
     "output_type": "stream",
     "text": [
      "After swapping: a = 10 , b = 5\n"
     ]
    }
   ],
   "source": [
    "# Input values\n",
    "a = 5\n",
    "b = 10\n",
    "\n",
    "# Using a temporary variable to swap values\n",
    "temp = a\n",
    "a = b\n",
    "b = temp\n",
    "\n",
    "# Output values after swapping\n",
    "print(\"After swapping: a =\", a, \", b =\", b)"
   ]
  },
  {
   "cell_type": "markdown",
   "id": "ec1a0708",
   "metadata": {},
   "source": [
    "# Without Using a Temporary Variable (Using Arithmetic Operations):"
   ]
  },
  {
   "cell_type": "code",
   "execution_count": 3,
   "id": "e2818318",
   "metadata": {},
   "outputs": [
    {
     "name": "stdout",
     "output_type": "stream",
     "text": [
      "After swapping: a = 10 , b = 5\n"
     ]
    }
   ],
   "source": [
    "# Input values\n",
    "a = 5\n",
    "b = 10\n",
    "\n",
    "# Swapping without a temporary variable\n",
    "a = a + b\n",
    "b = a - b\n",
    "a = a - b\n",
    "\n",
    "# Output values after swapping\n",
    "print(\"After swapping: a =\", a, \", b =\", b)\n"
   ]
  },
  {
   "cell_type": "markdown",
   "id": "1048366e",
   "metadata": {},
   "source": [
    "# Using Tuple Unpacking (Pythonic Way):"
   ]
  },
  {
   "cell_type": "code",
   "execution_count": 4,
   "id": "572b83da",
   "metadata": {},
   "outputs": [
    {
     "name": "stdout",
     "output_type": "stream",
     "text": [
      "After swapping: a = 10 , b = 5\n"
     ]
    }
   ],
   "source": [
    "# Input values\n",
    "a = 5\n",
    "b = 10\n",
    "\n",
    "# Swapping using tuple unpacking\n",
    "a, b = b, a\n",
    "\n",
    "# Output values after swapping\n",
    "print(\"After swapping: a =\", a, \", b =\", b)\n"
   ]
  },
  {
   "cell_type": "code",
   "execution_count": null,
   "id": "63518c06",
   "metadata": {},
   "outputs": [],
   "source": []
  }
 ],
 "metadata": {
  "kernelspec": {
   "display_name": "Python 3 (ipykernel)",
   "language": "python",
   "name": "python3"
  },
  "language_info": {
   "codemirror_mode": {
    "name": "ipython",
    "version": 3
   },
   "file_extension": ".py",
   "mimetype": "text/x-python",
   "name": "python",
   "nbconvert_exporter": "python",
   "pygments_lexer": "ipython3",
   "version": "3.9.12"
  }
 },
 "nbformat": 4,
 "nbformat_minor": 5
}
