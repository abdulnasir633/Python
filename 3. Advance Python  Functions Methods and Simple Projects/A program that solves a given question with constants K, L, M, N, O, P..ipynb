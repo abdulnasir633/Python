{
 "cells": [
  {
   "cell_type": "markdown",
   "id": "d6e609c1",
   "metadata": {},
   "source": [
    "# A program that solves a given question with constants K, L, M, N, O, P. \n"
   ]
  },
  {
   "cell_type": "markdown",
   "id": "bcc7774a",
   "metadata": {},
   "source": [
    "The code solves a system of two linear equations with two variables (x and y) using determinants and Cramer's rule, checking for the existence of a unique solution."
   ]
  },
  {
   "cell_type": "code",
   "execution_count": 3,
   "id": "5a663b36",
   "metadata": {},
   "outputs": [
    {
     "name": "stdout",
     "output_type": "stream",
     "text": [
      "x = -2.4285714285714284, y = 4.571428571428571\n"
     ]
    }
   ],
   "source": [
    "#Assigning values to the variables k, l, m, n, o, and p. \n",
    "#These variables represent the coefficients in the system of linear equations:\n",
    "\n",
    "k, l, m, n, o, p = 4, 3, 4, 9, 5, 1\n",
    "\n",
    "#This line calculates the determinant of the system of equations.\n",
    "#The determinant is used to check if the system has a unique solution.\n",
    "#The formula for the determinant in a 2x2 system is det = (k * o) - (l * n).\n",
    "\n",
    "temp = k * o - l * n\n",
    "\n",
    "\n",
    "#Here, the code checks if the determinant (temp) is not equal to zero. \n",
    "#If the determinant is zero, it means that the system of equations either has no solution or an infinite number of solutions. \n",
    "#In this case, the code prints a message indicating that there is no unique solution.\n",
    "\n",
    "# If the determinant is not zero, it proceeds to calculate the values of x and y \n",
    "# using Cramer's rule (a method for solving a system of linear equations using determinants).\n",
    "# The values are then printed.\n",
    "\n",
    "if temp != 0:\n",
    "    x = (m * o - l * p) / temp\n",
    "    y = (k * p - n * m) / temp\n",
    "    print(f\"x = {x}, y = {y}\")\n",
    "else:\n",
    "    print(\"The system of equations has no unique solution.\")\n"
   ]
  },
  {
   "cell_type": "code",
   "execution_count": null,
   "id": "6307c6d4",
   "metadata": {},
   "outputs": [],
   "source": []
  }
 ],
 "metadata": {
  "kernelspec": {
   "display_name": "Python 3 (ipykernel)",
   "language": "python",
   "name": "python3"
  },
  "language_info": {
   "codemirror_mode": {
    "name": "ipython",
    "version": 3
   },
   "file_extension": ".py",
   "mimetype": "text/x-python",
   "name": "python",
   "nbconvert_exporter": "python",
   "pygments_lexer": "ipython3",
   "version": "3.9.12"
  }
 },
 "nbformat": 4,
 "nbformat_minor": 5
}
