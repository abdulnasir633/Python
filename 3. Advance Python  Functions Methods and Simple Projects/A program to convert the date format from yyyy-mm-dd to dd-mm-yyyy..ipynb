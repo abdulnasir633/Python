{
 "cells": [
  {
   "cell_type": "markdown",
   "id": "03d8d115",
   "metadata": {},
   "source": [
    "# Write a program to convert the date format from yyyy-mm-dd to dd-mm-yyyy."
   ]
  },
  {
   "cell_type": "markdown",
   "id": "45d00c4c",
   "metadata": {},
   "source": [
    "The datetime module in Python to achieve this. Here's a simple program that converts the date format from \"yyyy-mm-dd\" to \"dd-mm-yyyy\":"
   ]
  },
  {
   "cell_type": "code",
   "execution_count": 1,
   "id": "93222e94",
   "metadata": {},
   "outputs": [
    {
     "name": "stdout",
     "output_type": "stream",
     "text": [
      "Original Date: 2023-01-15\n",
      "Converted Date: 15-01-2023\n"
     ]
    }
   ],
   "source": [
    "from datetime import datetime\n",
    "\n",
    "def convert_date_format(input_date):\n",
    "    # Parse the input date string to a datetime object\n",
    "    input_datetime = datetime.strptime(input_date, '%Y-%m-%d')\n",
    "    \n",
    "    # Format the datetime object to the desired output format\n",
    "    output_date = input_datetime.strftime('%d-%m-%Y')\n",
    "    \n",
    "    return output_date\n",
    "\n",
    "# Example usage:\n",
    "input_date = '2023-01-15'\n",
    "output_date = convert_date_format(input_date)\n",
    "\n",
    "print(f'Original Date: {input_date}')\n",
    "print(f'Converted Date: {output_date}')\n"
   ]
  },
  {
   "cell_type": "code",
   "execution_count": 3,
   "id": "41c66258",
   "metadata": {},
   "outputs": [
    {
     "name": "stdout",
     "output_type": "stream",
     "text": [
      "31-12-2023\n"
     ]
    }
   ],
   "source": [
    "import re\n",
    "\n",
    "def transform_date_format(date):\n",
    "    return re.sub(r'(\\d{4})-(\\d{1,2})-(\\d{1,2})', r'\\3-\\2-\\1', date)\n",
    "\n",
    "date_input = \"2023-12-31\"\n",
    "print(transform_date_format(date_input))\n"
   ]
  },
  {
   "cell_type": "code",
   "execution_count": null,
   "id": "96f0332a",
   "metadata": {},
   "outputs": [],
   "source": []
  }
 ],
 "metadata": {
  "kernelspec": {
   "display_name": "Python 3 (ipykernel)",
   "language": "python",
   "name": "python3"
  },
  "language_info": {
   "codemirror_mode": {
    "name": "ipython",
    "version": 3
   },
   "file_extension": ".py",
   "mimetype": "text/x-python",
   "name": "python",
   "nbconvert_exporter": "python",
   "pygments_lexer": "ipython3",
   "version": "3.9.12"
  }
 },
 "nbformat": 4,
 "nbformat_minor": 5
}
