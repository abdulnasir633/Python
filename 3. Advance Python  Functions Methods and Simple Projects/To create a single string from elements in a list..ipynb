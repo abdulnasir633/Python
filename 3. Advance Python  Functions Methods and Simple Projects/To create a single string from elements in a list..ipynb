{
 "cells": [
  {
   "cell_type": "markdown",
   "id": "d8197a85",
   "metadata": {},
   "source": [
    "#  To create a single string from elements in a list."
   ]
  },
  {
   "cell_type": "code",
   "execution_count": 2,
   "id": "01f718a7",
   "metadata": {},
   "outputs": [
    {
     "name": "stdout",
     "output_type": "stream",
     "text": [
      "Adil Change My Life\n"
     ]
    }
   ],
   "source": [
    "x = [\"Adil\", \"Change\", \"My\", \"Life\"]\n",
    "result_string = \" \".join(x)\n",
    "print(result_string)"
   ]
  },
  {
   "cell_type": "code",
   "execution_count": null,
   "id": "4bcd490f",
   "metadata": {},
   "outputs": [],
   "source": []
  }
 ],
 "metadata": {
  "kernelspec": {
   "display_name": "Python 3 (ipykernel)",
   "language": "python",
   "name": "python3"
  },
  "language_info": {
   "codemirror_mode": {
    "name": "ipython",
    "version": 3
   },
   "file_extension": ".py",
   "mimetype": "text/x-python",
   "name": "python",
   "nbconvert_exporter": "python",
   "pygments_lexer": "ipython3",
   "version": "3.9.12"
  }
 },
 "nbformat": 4,
 "nbformat_minor": 5
}
