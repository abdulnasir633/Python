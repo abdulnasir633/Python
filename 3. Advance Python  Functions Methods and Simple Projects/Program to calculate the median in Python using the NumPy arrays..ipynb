{
 "cells": [
  {
   "cell_type": "markdown",
   "id": "cab21495",
   "metadata": {},
   "source": [
    "# Program to calculate the median in Python using the NumPy arrays."
   ]
  },
  {
   "cell_type": "markdown",
   "id": "72210ba7",
   "metadata": {},
   "source": [
    "The NumPy library in Python to calculate the median of an array. "
   ]
  },
  {
   "cell_type": "markdown",
   "id": "1c8c40de",
   "metadata": {},
   "source": [
    "The median is a statistical measure that represents the middle value of a dataset when it is ordered from smallest to largest. In other words, the median is the value that separates the higher half from the lower half of a data sample.\n",
    "\n",
    "To calculate the median:\n",
    "\n",
    "Sort the Data: Arrange the dataset in ascending order.\n",
    "Identify the Middle Value: If the dataset has an odd number of values, the median is the middle value. If it has an even number of values, the median is the average of the two middle values.\n",
    "The median is especially useful when dealing with datasets that have outliers or are not symmetrically distributed because it is not influenced by extreme values."
   ]
  },
  {
   "cell_type": "code",
   "execution_count": 1,
   "id": "b8db8bdd",
   "metadata": {},
   "outputs": [
    {
     "name": "stdout",
     "output_type": "stream",
     "text": [
      "4.0\n"
     ]
    }
   ],
   "source": [
    "import numpy as np\n",
    "a = np.array([1,2,3,4,5,6,7])\n",
    "p = np.percentile(a,50) #return the 50th percentile which is also a median\n",
    "print(p)"
   ]
  },
  {
   "cell_type": "code",
   "execution_count": 2,
   "id": "a9606749",
   "metadata": {},
   "outputs": [
    {
     "name": "stdout",
     "output_type": "stream",
     "text": [
      "Median: 4.5\n"
     ]
    }
   ],
   "source": [
    "import numpy as np\n",
    "\n",
    "def calculate_median(data):\n",
    "    median = np.median(data)\n",
    "    return median\n",
    "\n",
    "# Example usage:\n",
    "data = np.array([5, 2, 8, 1, 7, 3, 6, 4])\n",
    "\n",
    "result = calculate_median(data)\n",
    "print(\"Median:\", result)\n"
   ]
  },
  {
   "cell_type": "code",
   "execution_count": null,
   "id": "d45d0307",
   "metadata": {},
   "outputs": [],
   "source": []
  }
 ],
 "metadata": {
  "kernelspec": {
   "display_name": "Python 3 (ipykernel)",
   "language": "python",
   "name": "python3"
  },
  "language_info": {
   "codemirror_mode": {
    "name": "ipython",
    "version": 3
   },
   "file_extension": ".py",
   "mimetype": "text/x-python",
   "name": "python",
   "nbconvert_exporter": "python",
   "pygments_lexer": "ipython3",
   "version": "3.9.12"
  }
 },
 "nbformat": 4,
 "nbformat_minor": 5
}
