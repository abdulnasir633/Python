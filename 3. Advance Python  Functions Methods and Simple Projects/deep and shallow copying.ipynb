{
 "cells": [
  {
   "cell_type": "markdown",
   "id": "bf41913a",
   "metadata": {},
   "source": [
    "# deep and shallow copying\n",
    "in Python, the concepts of shallow copying and deep copying are relevant when dealing with complex data structures like nested lists or dictionaries. Let's explore both shallow and deep copying using the copy module.\n",
    "\n",
    "Choose between shallow and deep copying based on the specific requirements of your application. Shallow copying is faster and more memory-efficient but may lead to unexpected behavior when modifying nested objects. Deep copying creates truly independent copies but may be slower and consume more memory.\n"
   ]
  },
  {
   "cell_type": "markdown",
   "id": "cddd996f",
   "metadata": {},
   "source": [
    "# Shallow Copying:\n",
    "Shallow copying creates a new object but does not create copies of the nested objects. Instead, it copies references to the nested objects. This means that changes made to the nested objects within the new object will affect the original object."
   ]
  },
  {
   "cell_type": "code",
   "execution_count": 1,
   "id": "c858777f",
   "metadata": {},
   "outputs": [
    {
     "name": "stdout",
     "output_type": "stream",
     "text": [
      "Original List: [1, [99, 3], [4, 5]]\n",
      "Shallow Copy: [1, [99, 3], [4, 5]]\n"
     ]
    }
   ],
   "source": [
    "import copy\n",
    "\n",
    "# Original list with nested list\n",
    "original_list = [1, [2, 3], [4, 5]]\n",
    "\n",
    "# Shallow copy\n",
    "shallow_copy = copy.copy(original_list)\n",
    "\n",
    "# Modify a nested list in the shallow copy\n",
    "shallow_copy[1][0] = 99\n",
    "\n",
    "# Print both original and shallow copy\n",
    "print(\"Original List:\", original_list)\n",
    "print(\"Shallow Copy:\", shallow_copy)"
   ]
  },
  {
   "cell_type": "markdown",
   "id": "9df69888",
   "metadata": {},
   "source": [
    "# Deep Copying:\n",
    "Deep copying creates a new object and recursively copies all objects found in the original, creating copies of nested objects as well. Changes made to the nested objects within the new object will not affect the original object. "
   ]
  },
  {
   "cell_type": "code",
   "execution_count": 2,
   "id": "9d4fde33",
   "metadata": {},
   "outputs": [
    {
     "name": "stdout",
     "output_type": "stream",
     "text": [
      "Original List: [1, [2, 3], [4, 5]]\n",
      "Deep Copy: [1, [99, 3], [4, 5]]\n"
     ]
    }
   ],
   "source": [
    "import copy\n",
    "\n",
    "# Original list with nested list\n",
    "original_list = [1, [2, 3], [4, 5]]\n",
    "\n",
    "# Deep copy\n",
    "deep_copy = copy.deepcopy(original_list)\n",
    "\n",
    "\n",
    "#deep_copy[1]: This part accesses the element at index 1 in the deep copy. In this case, it's a nested list [2, 3].\n",
    "\n",
    "#deep_copy[1][0]: This further accesses the element at index 0 within the nested list. In this case, it's the value 2.\n",
    "\n",
    "#Assignment (deep_copy[1][0] = 99): This assigns the value 99 to the element at index 0 within the nested list. After this line of code, the deep copy's nested list becomes [99, 3].\n",
    "\n",
    "# Modify a nested list in the deep copy\n",
    "deep_copy[1][0] = 99\n",
    "\n",
    "# Print both original and deep copy\n",
    "print(\"Original List:\", original_list)\n",
    "print(\"Deep Copy:\", deep_copy)\n"
   ]
  },
  {
   "cell_type": "code",
   "execution_count": null,
   "id": "9ec96746",
   "metadata": {},
   "outputs": [],
   "source": []
  }
 ],
 "metadata": {
  "kernelspec": {
   "display_name": "Python 3 (ipykernel)",
   "language": "python",
   "name": "python3"
  },
  "language_info": {
   "codemirror_mode": {
    "name": "ipython",
    "version": 3
   },
   "file_extension": ".py",
   "mimetype": "text/x-python",
   "name": "python",
   "nbconvert_exporter": "python",
   "pygments_lexer": "ipython3",
   "version": "3.9.12"
  }
 },
 "nbformat": 4,
 "nbformat_minor": 5
}
