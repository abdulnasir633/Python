{
 "cells": [
  {
   "cell_type": "markdown",
   "id": "ef098996",
   "metadata": {},
   "source": [
    "# Given a sequence of numbers and it checks if the numbers are unique."
   ]
  },
  {
   "cell_type": "markdown",
   "id": "573a4967",
   "metadata": {},
   "source": [
    "It uses the length of the original list and the length of the set created from the list to check if all elements are distinct. If the lengths are the same, it means all elements are unique."
   ]
  },
  {
   "cell_type": "code",
   "execution_count": 4,
   "id": "0cbab7ec",
   "metadata": {},
   "outputs": [
    {
     "name": "stdout",
     "output_type": "stream",
     "text": [
      "True\n",
      "False\n"
     ]
    }
   ],
   "source": [
    "def check_distinct(data_list):\n",
    "    return len(data_list) == len(set(data_list))\n",
    "\n",
    "print(check_distinct([2, 6, 3, 9]))  # Output: True\n",
    "print(check_distinct([1, 1, 5, 5, 5, 8, 8]))  # Output: False"
   ]
  },
  {
   "cell_type": "code",
   "execution_count": 3,
   "id": "367d6c81",
   "metadata": {},
   "outputs": [
    {
     "name": "stdout",
     "output_type": "stream",
     "text": [
      "True\n",
      "False\n"
     ]
    }
   ],
   "source": [
    "def check_distinct(data_list):\n",
    "    if len(data_list)==len(set(data_list)):\n",
    "        return True\n",
    "    else:\n",
    "        return False;\n",
    "print(check_distinct([2,6,3,9]))\n",
    "print(check_distinct([1,1,5,5,5,8,8]))"
   ]
  },
  {
   "cell_type": "code",
   "execution_count": null,
   "id": "9b290f4d",
   "metadata": {},
   "outputs": [],
   "source": []
  }
 ],
 "metadata": {
  "kernelspec": {
   "display_name": "Python 3 (ipykernel)",
   "language": "python",
   "name": "python3"
  },
  "language_info": {
   "codemirror_mode": {
    "name": "ipython",
    "version": 3
   },
   "file_extension": ".py",
   "mimetype": "text/x-python",
   "name": "python",
   "nbconvert_exporter": "python",
   "pygments_lexer": "ipython3",
   "version": "3.9.12"
  }
 },
 "nbformat": 4,
 "nbformat_minor": 5
}
