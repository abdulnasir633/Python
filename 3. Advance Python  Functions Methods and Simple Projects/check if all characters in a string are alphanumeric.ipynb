{
 "cells": [
  {
   "cell_type": "markdown",
   "id": "070df552",
   "metadata": {},
   "source": [
    "# How can we check if all characters in a string are alphanumeric?\n",
    "This can be done using the isalnum() method that returns true in case the string has only alphanumeric characters or the match() method from the re (regex) module. But here, we are going to show an example for the isalnum() method:"
   ]
  },
  {
   "cell_type": "code",
   "execution_count": 1,
   "id": "cf824152",
   "metadata": {},
   "outputs": [
    {
     "name": "stdout",
     "output_type": "stream",
     "text": [
      "True\n",
      "False\n"
     ]
    }
   ],
   "source": [
    "# Example 1\n",
    "result1 = \"dkac1961\".isalnum()\n",
    "print(result1)  # Output: True\n",
    "\n",
    "# Example 2\n",
    "result2 = \"qbaz#@12\".isalnum()\n",
    "print(result2)  # Output: False\n"
   ]
  },
  {
   "cell_type": "code",
   "execution_count": null,
   "id": "b523cc8a",
   "metadata": {},
   "outputs": [],
   "source": []
  }
 ],
 "metadata": {
  "kernelspec": {
   "display_name": "Python 3 (ipykernel)",
   "language": "python",
   "name": "python3"
  },
  "language_info": {
   "codemirror_mode": {
    "name": "ipython",
    "version": 3
   },
   "file_extension": ".py",
   "mimetype": "text/x-python",
   "name": "python",
   "nbconvert_exporter": "python",
   "pygments_lexer": "ipython3",
   "version": "3.9.12"
  }
 },
 "nbformat": 4,
 "nbformat_minor": 5
}
