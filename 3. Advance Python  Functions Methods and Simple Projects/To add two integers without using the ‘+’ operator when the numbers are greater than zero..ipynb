{
 "cells": [
  {
   "cell_type": "markdown",
   "id": "c2b5fa72",
   "metadata": {},
   "source": [
    "# To add two integers without using the ‘+’ operator when the numbers are greater than zero."
   ]
  },
  {
   "cell_type": "markdown",
   "id": "cdaf1f29",
   "metadata": {},
   "source": [
    " implementation of adding two numbers without using the + operator looks correct. It's using bitwise operations to perform addition. "
   ]
  },
  {
   "cell_type": "code",
   "execution_count": 2,
   "id": "298e296d",
   "metadata": {},
   "outputs": [
    {
     "name": "stdout",
     "output_type": "stream",
     "text": [
      "102\n"
     ]
    }
   ],
   "source": [
    "#In each iteration of the while loop:\n",
    "\n",
    "#data calculates the common set bits, which represent the bits where both num1 and num2 have 1.\n",
    "#num1 ^ num2 performs the addition without considering the carry.\n",
    "#num2 = data << 1 shifts the carry to the left for the next iteration.\n",
    "#This process continues until there is no carry left (num2 becomes 0).\n",
    "\n",
    "\n",
    "def add_nums(num1, num2):\n",
    "    while num2 != 0:\n",
    "        data = num1 & num2        # Calculate the common set bits\n",
    "        num1 = num1 ^ num2        # Sum of bits without considering carry\n",
    "        num2 = data << 1          # Shift the carry to the left\n",
    "\n",
    "    return num1\n",
    "\n",
    "# Example usage\n",
    "result = add_nums(97, 5)\n",
    "print(result)\n"
   ]
  },
  {
   "cell_type": "code",
   "execution_count": null,
   "id": "17eaf808",
   "metadata": {},
   "outputs": [],
   "source": []
  }
 ],
 "metadata": {
  "kernelspec": {
   "display_name": "Python 3 (ipykernel)",
   "language": "python",
   "name": "python3"
  },
  "language_info": {
   "codemirror_mode": {
    "name": "ipython",
    "version": 3
   },
   "file_extension": ".py",
   "mimetype": "text/x-python",
   "name": "python",
   "nbconvert_exporter": "python",
   "pygments_lexer": "ipython3",
   "version": "3.9.12"
  }
 },
 "nbformat": 4,
 "nbformat_minor": 5
}
