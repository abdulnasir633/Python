{
 "cells": [
  {
   "cell_type": "markdown",
   "id": "19f19ba3",
   "metadata": {},
   "source": [
    "# to check whether two words are anagrams or not. \n",
    "An anagram is a word or phrase formed by rearranging the letters of another word or phrase, using all the original letters exactly once. Here's a Python code to check whether two words are anagrams:\n",
    "1.The are_anagrams function takes two words as input.\n",
    "2.Spaces are removed from both words, and they are converted to lowercase to make the comparison case-insensitive.\n",
    "3.The sorted characters of both cleaned words are compared.\n",
    "4.If the sorted characters are the same, the words are considered anagrams."
   ]
  },
  {
   "cell_type": "code",
   "execution_count": 1,
   "id": "ce857d6e",
   "metadata": {},
   "outputs": [
    {
     "name": "stdout",
     "output_type": "stream",
     "text": [
      "listen and silent are anagrams.\n"
     ]
    }
   ],
   "source": [
    "def are_anagrams(word1, word2):\n",
    "    # Remove spaces and convert to lowercase for case-insensitive comparison\n",
    "    clean_word1 = word1.replace(\" \", \"\").lower()\n",
    "    clean_word2 = word2.replace(\" \", \"\").lower()\n",
    "\n",
    "    # Check if the sorted characters of both words are the same\n",
    "    return sorted(clean_word1) == sorted(clean_word2)\n",
    "\n",
    "# Example usage\n",
    "word1 = \"listen\"\n",
    "word2 = \"silent\"\n",
    "\n",
    "if are_anagrams(word1, word2):\n",
    "    print(f\"{word1} and {word2} are anagrams.\")\n",
    "else:\n",
    "    print(f\"{word1} and {word2} are not anagrams.\")\n"
   ]
  },
  {
   "cell_type": "code",
   "execution_count": null,
   "id": "7da28bf4",
   "metadata": {},
   "outputs": [],
   "source": []
  }
 ],
 "metadata": {
  "kernelspec": {
   "display_name": "Python 3 (ipykernel)",
   "language": "python",
   "name": "python3"
  },
  "language_info": {
   "codemirror_mode": {
    "name": "ipython",
    "version": 3
   },
   "file_extension": ".py",
   "mimetype": "text/x-python",
   "name": "python",
   "nbconvert_exporter": "python",
   "pygments_lexer": "ipython3",
   "version": "3.9.12"
  }
 },
 "nbformat": 4,
 "nbformat_minor": 5
}
