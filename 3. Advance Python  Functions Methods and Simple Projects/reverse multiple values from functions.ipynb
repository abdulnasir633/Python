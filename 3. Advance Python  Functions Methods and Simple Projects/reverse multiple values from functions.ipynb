{
 "cells": [
  {
   "cell_type": "markdown",
   "id": "ab6c5a8e",
   "metadata": {},
   "source": [
    "#  Reverse multiple values from functions\n",
    "To reverse multiple values from functions in Python, you can use tuple unpacking or any other appropriate data structure to return and handle multiple values. Here's an example using tuple unpacking:"
   ]
  },
  {
   "cell_type": "code",
   "execution_count": 1,
   "id": "db36ca7c",
   "metadata": {},
   "outputs": [
    {
     "name": "stdout",
     "output_type": "stream",
     "text": [
      "Reversed values: (3, 2, 1)\n"
     ]
    }
   ],
   "source": [
    "def reverse_values(a, b, c):\n",
    "    # Reverse the values using tuple unpacking\n",
    "    return c, b, a\n",
    "\n",
    "# Example usage\n",
    "result = reverse_values(1, 2, 3)\n",
    "\n",
    "# Print the reversed values\n",
    "print(\"Reversed values:\", result)\n"
   ]
  },
  {
   "cell_type": "markdown",
   "id": "033ffa6b",
   "metadata": {},
   "source": [
    "# If you want to reverse a list of values, you can do something like this:\n",
    "In this example, the reverse_list_values function takes a list (values) and returns a new list with reversed values using list slicing ([::-1])."
   ]
  },
  {
   "cell_type": "code",
   "execution_count": 2,
   "id": "b3aef02b",
   "metadata": {},
   "outputs": [
    {
     "name": "stdout",
     "output_type": "stream",
     "text": [
      "Original List: [1, 2, 3, 4, 5]\n",
      "Reversed List: [5, 4, 3, 2, 1]\n"
     ]
    }
   ],
   "source": [
    "def reverse_list_values(values):\n",
    "    # Reverse the values using list slicing\n",
    "    return values[::-1]\n",
    "\n",
    "# Example usage\n",
    "original_list = [1, 2, 3, 4, 5]\n",
    "reversed_list = reverse_list_values(original_list)\n",
    "\n",
    "# Print the reversed list\n",
    "print(\"Original List:\", original_list)\n",
    "print(\"Reversed List:\", reversed_list)\n"
   ]
  },
  {
   "cell_type": "code",
   "execution_count": null,
   "id": "b7142fb5",
   "metadata": {},
   "outputs": [],
   "source": []
  }
 ],
 "metadata": {
  "kernelspec": {
   "display_name": "Python 3 (ipykernel)",
   "language": "python",
   "name": "python3"
  },
  "language_info": {
   "codemirror_mode": {
    "name": "ipython",
    "version": 3
   },
   "file_extension": ".py",
   "mimetype": "text/x-python",
   "name": "python",
   "nbconvert_exporter": "python",
   "pygments_lexer": "ipython3",
   "version": "3.9.12"
  }
 },
 "nbformat": 4,
 "nbformat_minor": 5
}
