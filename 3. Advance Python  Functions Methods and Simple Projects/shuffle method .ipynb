{
 "cells": [
  {
   "cell_type": "markdown",
   "id": "6be87104",
   "metadata": {},
   "source": [
    "# Shuffle Method \n",
    "The shuffle method is used to randomize the items in an array. \n",
    "The shuffle method randomizes elements in an array each time it is called and results in different outputs.\n"
   ]
  },
  {
   "cell_type": "code",
   "execution_count": 4,
   "id": "2089258c",
   "metadata": {},
   "outputs": [
    {
     "name": "stdout",
     "output_type": "stream",
     "text": [
      "Orignal List: ['A', 'B', 'C', 'D', 'E', 'F']\n",
      "After first shuffle List: ['A', 'E', 'D', 'B', 'C', 'F']\n",
      "After Second shuffle List: ['E', 'D', 'A', 'B', 'C', 'F']\n",
      "After Third shuffle List: ['A', 'D', 'E', 'F', 'B', 'C']\n"
     ]
    }
   ],
   "source": [
    "#import random module\n",
    "import random\n",
    "#declare a list\n",
    "sample_list1=['A','B','C','D','E','F']\n",
    "print(\"Orignal List:\", sample_list1)\n",
    "#first shuffle\n",
    "random.shuffle(sample_list1)\n",
    "print(\"After first shuffle List:\", sample_list1)\n",
    "#second shuffle\n",
    "random.shuffle(sample_list1)\n",
    "print(\"After Second shuffle List:\", sample_list1)\n",
    "#third shuffle\n",
    "random.shuffle(sample_list1)\n",
    "print(\"After Third shuffle List:\", sample_list1)"
   ]
  },
  {
   "cell_type": "code",
   "execution_count": null,
   "id": "f3555ba8",
   "metadata": {},
   "outputs": [],
   "source": []
  }
 ],
 "metadata": {
  "kernelspec": {
   "display_name": "Python 3 (ipykernel)",
   "language": "python",
   "name": "python3"
  },
  "language_info": {
   "codemirror_mode": {
    "name": "ipython",
    "version": 3
   },
   "file_extension": ".py",
   "mimetype": "text/x-python",
   "name": "python",
   "nbconvert_exporter": "python",
   "pygments_lexer": "ipython3",
   "version": "3.9.12"
  }
 },
 "nbformat": 4,
 "nbformat_minor": 5
}
